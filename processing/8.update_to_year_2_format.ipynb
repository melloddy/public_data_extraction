{
 "cells": [
  {
   "cell_type": "code",
   "execution_count": 5,
   "id": "invalid-universal",
   "metadata": {},
   "outputs": [],
   "source": [
    "import pandas as pd\n",
    "import numpy as np"
   ]
  },
  {
   "cell_type": "markdown",
   "id": "increased-extension",
   "metadata": {},
   "source": [
    "## Loading the data"
   ]
  },
  {
   "cell_type": "code",
   "execution_count": 2,
   "id": "aggressive-philippines",
   "metadata": {},
   "outputs": [],
   "source": [
    "# Use the relevant folder where you have T2, T3 and T4 \n",
    "# (can be downloaded from here: https://app.box.com/folder/114032352224 )\n",
    "data_folder = '../../../public-data-preparation/processing/deliverables/regression'\n",
    "T2 = pd.read_csv(f'{data_folder}/T2.csv')\n",
    "T3 = pd.read_csv(f'{data_folder}/T3.csv')\n",
    "T4 = pd.read_csv(f'{data_folder}/T4.csv')"
   ]
  },
  {
   "cell_type": "markdown",
   "id": "continental-murder",
   "metadata": {},
   "source": [
    "## Creating new inputs"
   ]
  },
  {
   "cell_type": "markdown",
   "id": "harmful-constant",
   "metadata": {},
   "source": [
    "### T0:\n",
    "\n",
    "- `use_in_regression` column added and set to True for all assays\n",
    "- `direction` column added and set to high for all ADME assays\n",
    "- Five `expert_threshold_{i}` columns added and all set to NaN"
   ]
  },
  {
   "cell_type": "code",
   "execution_count": 27,
   "id": "prescription-disclosure",
   "metadata": {},
   "outputs": [
    {
     "data": {
      "text/html": [
       "<div>\n",
       "<style scoped>\n",
       "    .dataframe tbody tr th:only-of-type {\n",
       "        vertical-align: middle;\n",
       "    }\n",
       "\n",
       "    .dataframe tbody tr th {\n",
       "        vertical-align: top;\n",
       "    }\n",
       "\n",
       "    .dataframe thead th {\n",
       "        text-align: right;\n",
       "    }\n",
       "</style>\n",
       "<table border=\"1\" class=\"dataframe\">\n",
       "  <thead>\n",
       "    <tr style=\"text-align: right;\">\n",
       "      <th></th>\n",
       "      <th>input_assay_id</th>\n",
       "      <th>regression_task_id</th>\n",
       "      <th>assay_type</th>\n",
       "      <th>target_id</th>\n",
       "      <th>use_in_regression</th>\n",
       "      <th>direction</th>\n",
       "      <th>expert_threshold_1</th>\n",
       "      <th>expert_threshold_2</th>\n",
       "      <th>expert_threshold_3</th>\n",
       "      <th>expert_threshold_4</th>\n",
       "      <th>expert_threshold_5</th>\n",
       "    </tr>\n",
       "  </thead>\n",
       "  <tbody>\n",
       "    <tr>\n",
       "      <th>0</th>\n",
       "      <td>729459</td>\n",
       "      <td>0</td>\n",
       "      <td>ADME</td>\n",
       "      <td>81020</td>\n",
       "      <td>True</td>\n",
       "      <td>high</td>\n",
       "      <td>NaN</td>\n",
       "      <td>NaN</td>\n",
       "      <td>NaN</td>\n",
       "      <td>NaN</td>\n",
       "      <td>NaN</td>\n",
       "    </tr>\n",
       "    <tr>\n",
       "      <th>1</th>\n",
       "      <td>942987</td>\n",
       "      <td>1</td>\n",
       "      <td>ADME</td>\n",
       "      <td>81135</td>\n",
       "      <td>True</td>\n",
       "      <td>high</td>\n",
       "      <td>NaN</td>\n",
       "      <td>NaN</td>\n",
       "      <td>NaN</td>\n",
       "      <td>NaN</td>\n",
       "      <td>NaN</td>\n",
       "    </tr>\n",
       "    <tr>\n",
       "      <th>2</th>\n",
       "      <td>1617702</td>\n",
       "      <td>2</td>\n",
       "      <td>PANEL</td>\n",
       "      <td>22221</td>\n",
       "      <td>True</td>\n",
       "      <td>NaN</td>\n",
       "      <td>NaN</td>\n",
       "      <td>NaN</td>\n",
       "      <td>NaN</td>\n",
       "      <td>NaN</td>\n",
       "      <td>NaN</td>\n",
       "    </tr>\n",
       "    <tr>\n",
       "      <th>3</th>\n",
       "      <td>1678646</td>\n",
       "      <td>3</td>\n",
       "      <td>ADME</td>\n",
       "      <td>102723</td>\n",
       "      <td>True</td>\n",
       "      <td>high</td>\n",
       "      <td>NaN</td>\n",
       "      <td>NaN</td>\n",
       "      <td>NaN</td>\n",
       "      <td>NaN</td>\n",
       "      <td>NaN</td>\n",
       "    </tr>\n",
       "    <tr>\n",
       "      <th>4</th>\n",
       "      <td>305428</td>\n",
       "      <td>4</td>\n",
       "      <td>ADME</td>\n",
       "      <td>12594</td>\n",
       "      <td>True</td>\n",
       "      <td>high</td>\n",
       "      <td>NaN</td>\n",
       "      <td>NaN</td>\n",
       "      <td>NaN</td>\n",
       "      <td>NaN</td>\n",
       "      <td>NaN</td>\n",
       "    </tr>\n",
       "  </tbody>\n",
       "</table>\n",
       "</div>"
      ],
      "text/plain": [
       "   input_assay_id  regression_task_id assay_type  target_id  \\\n",
       "0          729459                   0       ADME      81020   \n",
       "1          942987                   1       ADME      81135   \n",
       "2         1617702                   2      PANEL      22221   \n",
       "3         1678646                   3       ADME     102723   \n",
       "4          305428                   4       ADME      12594   \n",
       "\n",
       "   use_in_regression direction  expert_threshold_1  expert_threshold_2  \\\n",
       "0               True      high                 NaN                 NaN   \n",
       "1               True      high                 NaN                 NaN   \n",
       "2               True       NaN                 NaN                 NaN   \n",
       "3               True      high                 NaN                 NaN   \n",
       "4               True      high                 NaN                 NaN   \n",
       "\n",
       "   expert_threshold_3  expert_threshold_4  expert_threshold_5  \n",
       "0                 NaN                 NaN                 NaN  \n",
       "1                 NaN                 NaN                 NaN  \n",
       "2                 NaN                 NaN                 NaN  \n",
       "3                 NaN                 NaN                 NaN  \n",
       "4                 NaN                 NaN                 NaN  "
      ]
     },
     "execution_count": 27,
     "metadata": {},
     "output_type": "execute_result"
    }
   ],
   "source": [
    "T3.head()"
   ]
  },
  {
   "cell_type": "code",
   "execution_count": 8,
   "id": "collected-guidance",
   "metadata": {},
   "outputs": [],
   "source": [
    "T3['use_in_regression'] = True\n",
    "T3.loc[T3['assay_type'] == 'ADME', 'direction'] = 'high'\n",
    "for i in range(1, 6):\n",
    "    T3[f'expert_threshold_{i}'] = np.nan"
   ]
  },
  {
   "cell_type": "code",
   "execution_count": 9,
   "id": "structural-catholic",
   "metadata": {},
   "outputs": [],
   "source": [
    "T0 = T3[['assay_type', 'use_in_regression', 'expert_threshold_1', 'expert_threshold_2',\n",
    "         'expert_threshold_3', 'expert_threshold_4', 'expert_threshold_5', 'direction']]"
   ]
  },
  {
   "cell_type": "code",
   "execution_count": 37,
   "id": "massive-gentleman",
   "metadata": {},
   "outputs": [
    {
     "name": "stdout",
     "output_type": "stream",
     "text": [
      "(3262, 8)\n",
      "Index(['assay_type', 'use_in_regression', 'expert_threshold_1',\n",
      "       'expert_threshold_2', 'expert_threshold_3', 'expert_threshold_4',\n",
      "       'expert_threshold_5', 'direction'],\n",
      "      dtype='object')\n"
     ]
    },
    {
     "data": {
      "text/html": [
       "<div>\n",
       "<style scoped>\n",
       "    .dataframe tbody tr th:only-of-type {\n",
       "        vertical-align: middle;\n",
       "    }\n",
       "\n",
       "    .dataframe tbody tr th {\n",
       "        vertical-align: top;\n",
       "    }\n",
       "\n",
       "    .dataframe thead th {\n",
       "        text-align: right;\n",
       "    }\n",
       "</style>\n",
       "<table border=\"1\" class=\"dataframe\">\n",
       "  <thead>\n",
       "    <tr style=\"text-align: right;\">\n",
       "      <th></th>\n",
       "      <th>assay_type</th>\n",
       "      <th>use_in_regression</th>\n",
       "      <th>expert_threshold_1</th>\n",
       "      <th>expert_threshold_2</th>\n",
       "      <th>expert_threshold_3</th>\n",
       "      <th>expert_threshold_4</th>\n",
       "      <th>expert_threshold_5</th>\n",
       "      <th>direction</th>\n",
       "    </tr>\n",
       "  </thead>\n",
       "  <tbody>\n",
       "    <tr>\n",
       "      <th>0</th>\n",
       "      <td>ADME</td>\n",
       "      <td>True</td>\n",
       "      <td>NaN</td>\n",
       "      <td>NaN</td>\n",
       "      <td>NaN</td>\n",
       "      <td>NaN</td>\n",
       "      <td>NaN</td>\n",
       "      <td>high</td>\n",
       "    </tr>\n",
       "    <tr>\n",
       "      <th>1</th>\n",
       "      <td>ADME</td>\n",
       "      <td>True</td>\n",
       "      <td>NaN</td>\n",
       "      <td>NaN</td>\n",
       "      <td>NaN</td>\n",
       "      <td>NaN</td>\n",
       "      <td>NaN</td>\n",
       "      <td>high</td>\n",
       "    </tr>\n",
       "    <tr>\n",
       "      <th>2</th>\n",
       "      <td>PANEL</td>\n",
       "      <td>True</td>\n",
       "      <td>NaN</td>\n",
       "      <td>NaN</td>\n",
       "      <td>NaN</td>\n",
       "      <td>NaN</td>\n",
       "      <td>NaN</td>\n",
       "      <td>NaN</td>\n",
       "    </tr>\n",
       "    <tr>\n",
       "      <th>3</th>\n",
       "      <td>ADME</td>\n",
       "      <td>True</td>\n",
       "      <td>NaN</td>\n",
       "      <td>NaN</td>\n",
       "      <td>NaN</td>\n",
       "      <td>NaN</td>\n",
       "      <td>NaN</td>\n",
       "      <td>high</td>\n",
       "    </tr>\n",
       "    <tr>\n",
       "      <th>4</th>\n",
       "      <td>ADME</td>\n",
       "      <td>True</td>\n",
       "      <td>NaN</td>\n",
       "      <td>NaN</td>\n",
       "      <td>NaN</td>\n",
       "      <td>NaN</td>\n",
       "      <td>NaN</td>\n",
       "      <td>high</td>\n",
       "    </tr>\n",
       "  </tbody>\n",
       "</table>\n",
       "</div>"
      ],
      "text/plain": [
       "  assay_type  use_in_regression  expert_threshold_1  expert_threshold_2  \\\n",
       "0       ADME               True                 NaN                 NaN   \n",
       "1       ADME               True                 NaN                 NaN   \n",
       "2      PANEL               True                 NaN                 NaN   \n",
       "3       ADME               True                 NaN                 NaN   \n",
       "4       ADME               True                 NaN                 NaN   \n",
       "\n",
       "   expert_threshold_3  expert_threshold_4  expert_threshold_5 direction  \n",
       "0                 NaN                 NaN                 NaN      high  \n",
       "1                 NaN                 NaN                 NaN      high  \n",
       "2                 NaN                 NaN                 NaN       NaN  \n",
       "3                 NaN                 NaN                 NaN      high  \n",
       "4                 NaN                 NaN                 NaN      high  "
      ]
     },
     "execution_count": 37,
     "metadata": {},
     "output_type": "execute_result"
    }
   ],
   "source": [
    "print(T0.shape)\n",
    "print(T0.columns)\n",
    "T0.head()"
   ]
  },
  {
   "cell_type": "markdown",
   "id": "mounted-burning",
   "metadata": {},
   "source": [
    "### T1\n",
    "\n",
    "- All values with unit nM converted to log space (pIC/EC50)\n",
    "- Corresponding qualifiers inverted\n",
    "- `input_assay_id` can be extracted from a join of T4 on regression_task_id with T3"
   ]
  },
  {
   "cell_type": "code",
   "execution_count": 10,
   "id": "crude-despite",
   "metadata": {},
   "outputs": [
    {
     "data": {
      "text/html": [
       "<div>\n",
       "<style scoped>\n",
       "    .dataframe tbody tr th:only-of-type {\n",
       "        vertical-align: middle;\n",
       "    }\n",
       "\n",
       "    .dataframe tbody tr th {\n",
       "        vertical-align: top;\n",
       "    }\n",
       "\n",
       "    .dataframe thead th {\n",
       "        text-align: right;\n",
       "    }\n",
       "</style>\n",
       "<table border=\"1\" class=\"dataframe\">\n",
       "  <thead>\n",
       "    <tr style=\"text-align: right;\">\n",
       "      <th></th>\n",
       "      <th>input_compound_id</th>\n",
       "      <th>regression_task_id</th>\n",
       "      <th>standard_value</th>\n",
       "      <th>standard_relation</th>\n",
       "      <th>standard_units</th>\n",
       "      <th>standard_type</th>\n",
       "    </tr>\n",
       "  </thead>\n",
       "  <tbody>\n",
       "    <tr>\n",
       "      <th>0</th>\n",
       "      <td>1075529</td>\n",
       "      <td>0</td>\n",
       "      <td>25000.0</td>\n",
       "      <td>&gt;</td>\n",
       "      <td>nM</td>\n",
       "      <td>EC50</td>\n",
       "    </tr>\n",
       "    <tr>\n",
       "      <th>1</th>\n",
       "      <td>1203610</td>\n",
       "      <td>1</td>\n",
       "      <td>67000.0</td>\n",
       "      <td>=</td>\n",
       "      <td>nM</td>\n",
       "      <td>IC50</td>\n",
       "    </tr>\n",
       "    <tr>\n",
       "      <th>2</th>\n",
       "      <td>1203845</td>\n",
       "      <td>1</td>\n",
       "      <td>100000.0</td>\n",
       "      <td>&gt;</td>\n",
       "      <td>nM</td>\n",
       "      <td>IC50</td>\n",
       "    </tr>\n",
       "    <tr>\n",
       "      <th>3</th>\n",
       "      <td>1203966</td>\n",
       "      <td>1</td>\n",
       "      <td>62000.0</td>\n",
       "      <td>=</td>\n",
       "      <td>nM</td>\n",
       "      <td>IC50</td>\n",
       "    </tr>\n",
       "    <tr>\n",
       "      <th>4</th>\n",
       "      <td>2176418</td>\n",
       "      <td>2</td>\n",
       "      <td>60000.0</td>\n",
       "      <td>=</td>\n",
       "      <td>nM</td>\n",
       "      <td>EC50</td>\n",
       "    </tr>\n",
       "  </tbody>\n",
       "</table>\n",
       "</div>"
      ],
      "text/plain": [
       "   input_compound_id  regression_task_id  standard_value standard_relation  \\\n",
       "0            1075529                   0         25000.0                 >   \n",
       "1            1203610                   1         67000.0                 =   \n",
       "2            1203845                   1        100000.0                 >   \n",
       "3            1203966                   1         62000.0                 =   \n",
       "4            2176418                   2         60000.0                 =   \n",
       "\n",
       "  standard_units standard_type  \n",
       "0             nM          EC50  \n",
       "1             nM          IC50  \n",
       "2             nM          IC50  \n",
       "3             nM          IC50  \n",
       "4             nM          EC50  "
      ]
     },
     "execution_count": 10,
     "metadata": {},
     "output_type": "execute_result"
    }
   ],
   "source": [
    "T4.head()"
   ]
  },
  {
   "cell_type": "code",
   "execution_count": 12,
   "id": "green-measure",
   "metadata": {},
   "outputs": [
    {
     "data": {
      "text/plain": [
       "nM         1568430\n",
       "ug.mL-1       5925\n",
       "Name: standard_units, dtype: int64"
      ]
     },
     "execution_count": 12,
     "metadata": {},
     "output_type": "execute_result"
    }
   ],
   "source": [
    "T4.standard_units.value_counts()"
   ]
  },
  {
   "cell_type": "code",
   "execution_count": 14,
   "id": "decreased-distinction",
   "metadata": {},
   "outputs": [],
   "source": [
    "def convert_to_log_scale(x, epsilon=1e-16):\n",
    "    return -np.log10(1e-9*x + epsilon)\n",
    "\n",
    "T4.loc[T4['standard_units'] == 'nM', 'standard_value'] = T4.loc[T4['standard_units'] == 'nM', 'standard_value'].apply(convert_to_log_scale)\n"
   ]
  },
  {
   "cell_type": "code",
   "execution_count": 15,
   "id": "driven-velvet",
   "metadata": {
    "scrolled": true
   },
   "outputs": [
    {
     "data": {
      "text/plain": [
       "=     1479878\n",
       ">      115829\n",
       "<        5951\n",
       ">=        547\n",
       "<=        158\n",
       "~          12\n",
       ">>          5\n",
       "Name: standard_relation, dtype: int64"
      ]
     },
     "execution_count": 15,
     "metadata": {},
     "output_type": "execute_result"
    }
   ],
   "source": [
    "T4.standard_relation.value_counts()"
   ]
  },
  {
   "cell_type": "code",
   "execution_count": 24,
   "id": "ready-spectrum",
   "metadata": {},
   "outputs": [],
   "source": [
    "qualifier_conversion = {\n",
    "    '>': '<',\n",
    "    '>=': '<=',\n",
    "    '<': '>',\n",
    "    '<=': '>=',\n",
    "    '<<': '>>',\n",
    "    '>>': '<<',\n",
    "    '=': '=',\n",
    "    '~': '~'\n",
    "}\n",
    "T4.loc[T4['standard_units'] == 'nM', 'standard_qualifier'] = T4.loc[T4['standard_units'] == 'nM', 'standard_relation'].map(qualifier_conversion)\n",
    "T4.loc[T4['standard_units'] != 'nM', 'standard_qualifier'] = T4.loc[T4['standard_units'] != 'nM', 'standard_relation']\n"
   ]
  },
  {
   "cell_type": "code",
   "execution_count": 28,
   "id": "fifteen-module",
   "metadata": {},
   "outputs": [],
   "source": [
    "T4_join = T4.join(T3.set_index('regression_task_id')['input_assay_id'], on='regression_task_id')"
   ]
  },
  {
   "cell_type": "code",
   "execution_count": 29,
   "id": "joined-adelaide",
   "metadata": {},
   "outputs": [
    {
     "data": {
      "text/plain": [
       "(1606640, 8)"
      ]
     },
     "execution_count": 29,
     "metadata": {},
     "output_type": "execute_result"
    }
   ],
   "source": [
    "T4_join.shape"
   ]
  },
  {
   "cell_type": "code",
   "execution_count": 32,
   "id": "later-athletics",
   "metadata": {},
   "outputs": [],
   "source": [
    "T1 = T4_join[['input_compound_id', 'input_assay_id', 'standard_qualifier',\n",
    "       'standard_value']]"
   ]
  },
  {
   "cell_type": "code",
   "execution_count": 34,
   "id": "suspected-royal",
   "metadata": {},
   "outputs": [
    {
     "name": "stdout",
     "output_type": "stream",
     "text": [
      "(1606640, 4)\n",
      "Index(['input_compound_id', 'input_assay_id', 'standard_qualifier',\n",
      "       'standard_value'],\n",
      "      dtype='object')\n"
     ]
    },
    {
     "data": {
      "text/html": [
       "<div>\n",
       "<style scoped>\n",
       "    .dataframe tbody tr th:only-of-type {\n",
       "        vertical-align: middle;\n",
       "    }\n",
       "\n",
       "    .dataframe tbody tr th {\n",
       "        vertical-align: top;\n",
       "    }\n",
       "\n",
       "    .dataframe thead th {\n",
       "        text-align: right;\n",
       "    }\n",
       "</style>\n",
       "<table border=\"1\" class=\"dataframe\">\n",
       "  <thead>\n",
       "    <tr style=\"text-align: right;\">\n",
       "      <th></th>\n",
       "      <th>input_compound_id</th>\n",
       "      <th>input_assay_id</th>\n",
       "      <th>standard_qualifier</th>\n",
       "      <th>standard_value</th>\n",
       "    </tr>\n",
       "  </thead>\n",
       "  <tbody>\n",
       "    <tr>\n",
       "      <th>1425163</th>\n",
       "      <td>176394</td>\n",
       "      <td>517</td>\n",
       "      <td>&lt;</td>\n",
       "      <td>6.000000</td>\n",
       "    </tr>\n",
       "    <tr>\n",
       "      <th>1421980</th>\n",
       "      <td>176083</td>\n",
       "      <td>517</td>\n",
       "      <td>=</td>\n",
       "      <td>6.000000</td>\n",
       "    </tr>\n",
       "    <tr>\n",
       "      <th>1421713</th>\n",
       "      <td>175944</td>\n",
       "      <td>517</td>\n",
       "      <td>=</td>\n",
       "      <td>6.096910</td>\n",
       "    </tr>\n",
       "    <tr>\n",
       "      <th>1427265</th>\n",
       "      <td>175970</td>\n",
       "      <td>517</td>\n",
       "      <td>=</td>\n",
       "      <td>6.869666</td>\n",
       "    </tr>\n",
       "    <tr>\n",
       "      <th>1427266</th>\n",
       "      <td>176251</td>\n",
       "      <td>517</td>\n",
       "      <td>=</td>\n",
       "      <td>8.698970</td>\n",
       "    </tr>\n",
       "  </tbody>\n",
       "</table>\n",
       "</div>"
      ],
      "text/plain": [
       "         input_compound_id  input_assay_id standard_qualifier  standard_value\n",
       "1425163             176394             517                  <        6.000000\n",
       "1421980             176083             517                  =        6.000000\n",
       "1421713             175944             517                  =        6.096910\n",
       "1427265             175970             517                  =        6.869666\n",
       "1427266             176251             517                  =        8.698970"
      ]
     },
     "execution_count": 34,
     "metadata": {},
     "output_type": "execute_result"
    }
   ],
   "source": [
    "print(T1.shape)\n",
    "print(T1.columns)\n",
    "T1.head()"
   ]
  },
  {
   "cell_type": "code",
   "execution_count": null,
   "id": "absolute-vancouver",
   "metadata": {},
   "outputs": [],
   "source": []
  }
 ],
 "metadata": {
  "kernelspec": {
   "display_name": "Python 3",
   "language": "python",
   "name": "python3"
  },
  "language_info": {
   "codemirror_mode": {
    "name": "ipython",
    "version": 3
   },
   "file_extension": ".py",
   "mimetype": "text/x-python",
   "name": "python",
   "nbconvert_exporter": "python",
   "pygments_lexer": "ipython3",
   "version": "3.7.3"
  }
 },
 "nbformat": 4,
 "nbformat_minor": 5
}
