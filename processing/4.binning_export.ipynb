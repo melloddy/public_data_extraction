{
 "cells": [
  {
   "cell_type": "code",
   "execution_count": 1,
   "metadata": {},
   "outputs": [],
   "source": [
    "from pandas import read_csv, concat"
   ]
  },
  {
   "cell_type": "code",
   "execution_count": 2,
   "metadata": {},
   "outputs": [],
   "source": [
    "from assay_processing import (\n",
    "    log_to_nanomol, \n",
    "    bin_assays, \n",
    "    delete_assays, \n",
    "    build_t2, \n",
    "    build_t3, \n",
    "    build_t4\n",
    ")"
   ]
  },
  {
   "cell_type": "markdown",
   "metadata": {},
   "source": [
    "---\n",
    "## Read Data"
   ]
  },
  {
   "cell_type": "code",
   "execution_count": 3,
   "metadata": {},
   "outputs": [],
   "source": [
    "solubility_df = read_csv('data/physicochemical_solubility.csv')\n",
    "logP_df = read_csv('data/physicochemical_logp.csv')\n",
    "logD_df = read_csv('data/physicochemical_logd.csv')"
   ]
  },
  {
   "cell_type": "markdown",
   "metadata": {},
   "source": [
    "---\n",
    "## Reset Assay IDs"
   ]
  },
  {
   "cell_type": "code",
   "execution_count": 4,
   "metadata": {},
   "outputs": [],
   "source": [
    "reference = list()"
   ]
  },
  {
   "cell_type": "code",
   "execution_count": 5,
   "metadata": {},
   "outputs": [],
   "source": [
    "start = 2000000\n",
    "for i, label in enumerate(logD_df.pH.unique()):\n",
    "    for a in logD_df.loc[logD_df['pH'] == label, 'assay_id']:\n",
    "        reference.append({'assay_id': a, 'input_assay_id': start + i})\n",
    "    logD_df.loc[logD_df['pH'] == label, 'assay_id'] = start + i\n",
    "    \n",
    "start = 3000000 \n",
    "for i, label in enumerate(solubility_df.pH_solvent.unique()):\n",
    "    for a in solubility_df.loc[solubility_df['pH_solvent'] == label, 'assay_id']:\n",
    "        reference.append({'assay_id': a, 'input_assay_id': start + i})\n",
    "    solubility_df.loc[solubility_df['pH_solvent'] == label, 'assay_id'] = start + i\n",
    "    \n",
    "for a in logP_df.assay_id.unique():\n",
    "    reference.append({'assay_id': a, 'input_assay_id': 4000000})\n",
    "logP_df.assay_id = 4000000"
   ]
  },
  {
   "cell_type": "code",
   "execution_count": 6,
   "metadata": {},
   "outputs": [],
   "source": [
    "from pickle import dump\n",
    "with open('reference_pc.pkl', 'wb') as f:\n",
    "    dump(reference, f)"
   ]
  },
  {
   "cell_type": "markdown",
   "metadata": {},
   "source": [
    "---\n",
    "## All standard values must be in nM"
   ]
  },
  {
   "cell_type": "code",
   "execution_count": 7,
   "metadata": {},
   "outputs": [],
   "source": [
    "solubility_df['standard_value'] = solubility_df.logS.apply(log_to_nanomol)\n",
    "logD_df['standard_value'] = logD_df.standard_value.apply(log_to_nanomol)\n",
    "logP_df['standard_value'] = logP_df.standard_value.apply(log_to_nanomol)"
   ]
  },
  {
   "cell_type": "code",
   "execution_count": 8,
   "metadata": {},
   "outputs": [],
   "source": [
    "columns = set(solubility_df.columns)\n",
    "columns.intersection_update(logD_df.columns)\n",
    "columns.intersection_update(logP_df.columns)"
   ]
  },
  {
   "cell_type": "code",
   "execution_count": 9,
   "metadata": {},
   "outputs": [],
   "source": [
    "physico_chemical_df = concat([solubility_df[columns], logD_df[columns], logP_df[columns]])"
   ]
  },
  {
   "cell_type": "code",
   "execution_count": 10,
   "metadata": {},
   "outputs": [],
   "source": [
    "physico_chemical_df.to_csv('data/physico_chemical.csv', index=False)"
   ]
  },
  {
   "cell_type": "markdown",
   "metadata": {},
   "source": [
    "---"
   ]
  },
  {
   "cell_type": "code",
   "execution_count": 11,
   "metadata": {},
   "outputs": [],
   "source": [
    "input_directory = 'data'\n",
    "output_directory = 'deliverables'"
   ]
  },
  {
   "cell_type": "code",
   "execution_count": 12,
   "metadata": {},
   "outputs": [],
   "source": [
    "files = [\n",
    "    'admet_tox.csv',\n",
    "    'binding_functional.csv',\n",
    "    'physico_chemical.csv',\n",
    "]\n",
    "file_paths = [input_directory + '/' + f for f in files]"
   ]
  },
  {
   "cell_type": "code",
   "execution_count": 13,
   "metadata": {},
   "outputs": [],
   "source": [
    "dfs = [read_csv(file_path, low_memory=False) for file_path in file_paths]\n",
    "df_ = concat(dfs, sort=False)"
   ]
  },
  {
   "cell_type": "code",
   "execution_count": 14,
   "metadata": {},
   "outputs": [],
   "source": [
    "t3_data, t4_data, assay_ids_to_drop = bin_assays(df_)\n",
    "df = delete_assays(assay_ids_to_drop, df_)"
   ]
  },
  {
   "cell_type": "code",
   "execution_count": 15,
   "metadata": {},
   "outputs": [],
   "source": [
    "t2_df = build_t2(df)\n",
    "t3_df = build_t3(t3_data)\n",
    "t4_df = build_t4(t4_data)"
   ]
  },
  {
   "cell_type": "code",
   "execution_count": 16,
   "metadata": {},
   "outputs": [
    {
     "data": {
      "text/html": [
       "<div>\n",
       "<style scoped>\n",
       "    .dataframe tbody tr th:only-of-type {\n",
       "        vertical-align: middle;\n",
       "    }\n",
       "\n",
       "    .dataframe tbody tr th {\n",
       "        vertical-align: top;\n",
       "    }\n",
       "\n",
       "    .dataframe thead th {\n",
       "        text-align: right;\n",
       "    }\n",
       "</style>\n",
       "<table border=\"1\" class=\"dataframe\">\n",
       "  <thead>\n",
       "    <tr style=\"text-align: right;\">\n",
       "      <th></th>\n",
       "      <th>input_compound_id</th>\n",
       "      <th>smiles</th>\n",
       "    </tr>\n",
       "  </thead>\n",
       "  <tbody>\n",
       "    <tr>\n",
       "      <th>1</th>\n",
       "      <td>1203610</td>\n",
       "      <td>Clc1ccc(cc1)C(N2CCN(CC2)C(=O)Nc3ccccc3)c4cccnc4</td>\n",
       "    </tr>\n",
       "    <tr>\n",
       "      <th>2</th>\n",
       "      <td>1203845</td>\n",
       "      <td>CS(=O)(=O)N1CCN(CC1)C(c2ccc(Cl)cc2)c3cccnc3</td>\n",
       "    </tr>\n",
       "    <tr>\n",
       "      <th>3</th>\n",
       "      <td>1203966</td>\n",
       "      <td>Fc1cc(Cl)ccc1C(N2CCN(CC2)C(=O)C3CCCCC3)c4cccnc4</td>\n",
       "    </tr>\n",
       "    <tr>\n",
       "      <th>4</th>\n",
       "      <td>2176418</td>\n",
       "      <td>[O-][N+](=O)c1ccccc1S(=O)(=O)Nc2ccc(cc2)c3oc4c...</td>\n",
       "    </tr>\n",
       "    <tr>\n",
       "      <th>71</th>\n",
       "      <td>322485</td>\n",
       "      <td>Clc1cccc2c(Cl)cccc12</td>\n",
       "    </tr>\n",
       "    <tr>\n",
       "      <th>72</th>\n",
       "      <td>13540</td>\n",
       "      <td>Clc1ccc(cc1)c2ccccc2</td>\n",
       "    </tr>\n",
       "    <tr>\n",
       "      <th>75</th>\n",
       "      <td>1203507</td>\n",
       "      <td>CC(C)(C)C(=O)N1CCN(CC1)C(c2cncnc2)c3ccc(Cl)cc3F</td>\n",
       "    </tr>\n",
       "    <tr>\n",
       "      <th>76</th>\n",
       "      <td>2156569</td>\n",
       "      <td>COc1ccc(cc1)S(=O)(=O)Nc2ccc(cc2)c3oc4ccc(NS(=O...</td>\n",
       "    </tr>\n",
       "    <tr>\n",
       "      <th>84</th>\n",
       "      <td>13725</td>\n",
       "      <td>c1ccc(cc1)c2ccccc2</td>\n",
       "    </tr>\n",
       "    <tr>\n",
       "      <th>86</th>\n",
       "      <td>1618891</td>\n",
       "      <td>Cc1ccc(cc1)S(=O)(=O)Nc2ccc(cc2)c3nc4ccc(NS(=O)...</td>\n",
       "    </tr>\n",
       "  </tbody>\n",
       "</table>\n",
       "</div>"
      ],
      "text/plain": [
       "    input_compound_id                                             smiles\n",
       "1             1203610    Clc1ccc(cc1)C(N2CCN(CC2)C(=O)Nc3ccccc3)c4cccnc4\n",
       "2             1203845        CS(=O)(=O)N1CCN(CC1)C(c2ccc(Cl)cc2)c3cccnc3\n",
       "3             1203966    Fc1cc(Cl)ccc1C(N2CCN(CC2)C(=O)C3CCCCC3)c4cccnc4\n",
       "4             2176418  [O-][N+](=O)c1ccccc1S(=O)(=O)Nc2ccc(cc2)c3oc4c...\n",
       "71             322485                               Clc1cccc2c(Cl)cccc12\n",
       "72              13540                               Clc1ccc(cc1)c2ccccc2\n",
       "75            1203507    CC(C)(C)C(=O)N1CCN(CC1)C(c2cncnc2)c3ccc(Cl)cc3F\n",
       "76            2156569  COc1ccc(cc1)S(=O)(=O)Nc2ccc(cc2)c3oc4ccc(NS(=O...\n",
       "84              13725                                 c1ccc(cc1)c2ccccc2\n",
       "86            1618891  Cc1ccc(cc1)S(=O)(=O)Nc2ccc(cc2)c3nc4ccc(NS(=O)..."
      ]
     },
     "execution_count": 16,
     "metadata": {},
     "output_type": "execute_result"
    }
   ],
   "source": [
    "t2_df.head(10)"
   ]
  },
  {
   "cell_type": "code",
   "execution_count": 17,
   "metadata": {},
   "outputs": [
    {
     "data": {
      "text/html": [
       "<div>\n",
       "<style scoped>\n",
       "    .dataframe tbody tr th:only-of-type {\n",
       "        vertical-align: middle;\n",
       "    }\n",
       "\n",
       "    .dataframe tbody tr th {\n",
       "        vertical-align: top;\n",
       "    }\n",
       "\n",
       "    .dataframe thead th {\n",
       "        text-align: right;\n",
       "    }\n",
       "</style>\n",
       "<table border=\"1\" class=\"dataframe\">\n",
       "  <thead>\n",
       "    <tr style=\"text-align: right;\">\n",
       "      <th></th>\n",
       "      <th>classification_task_id</th>\n",
       "      <th>input_assay_id</th>\n",
       "      <th>assay_type</th>\n",
       "      <th>target_id</th>\n",
       "      <th>threshold_column</th>\n",
       "      <th>threshold_value</th>\n",
       "      <th>threshold_operator</th>\n",
       "      <th>weight</th>\n",
       "    </tr>\n",
       "  </thead>\n",
       "  <tbody>\n",
       "    <tr>\n",
       "      <th>0</th>\n",
       "      <td>1</td>\n",
       "      <td>942987</td>\n",
       "      <td>ADME</td>\n",
       "      <td>81135</td>\n",
       "      <td>standard_value</td>\n",
       "      <td>74973.328591</td>\n",
       "      <td>&gt;=</td>\n",
       "      <td>1.0</td>\n",
       "    </tr>\n",
       "    <tr>\n",
       "      <th>1</th>\n",
       "      <td>2</td>\n",
       "      <td>1617702</td>\n",
       "      <td>PANEL</td>\n",
       "      <td>22221</td>\n",
       "      <td>standard_value</td>\n",
       "      <td>59000.000000</td>\n",
       "      <td>&gt;=</td>\n",
       "      <td>1.0</td>\n",
       "    </tr>\n",
       "    <tr>\n",
       "      <th>2</th>\n",
       "      <td>3</td>\n",
       "      <td>305428</td>\n",
       "      <td>ADME</td>\n",
       "      <td>12594</td>\n",
       "      <td>standard_value</td>\n",
       "      <td>61400.325732</td>\n",
       "      <td>&gt;=</td>\n",
       "      <td>1.0</td>\n",
       "    </tr>\n",
       "    <tr>\n",
       "      <th>3</th>\n",
       "      <td>4</td>\n",
       "      <td>451490</td>\n",
       "      <td>ADME</td>\n",
       "      <td>80583</td>\n",
       "      <td>standard_value</td>\n",
       "      <td>123600.000000</td>\n",
       "      <td>&gt;=</td>\n",
       "      <td>1.0</td>\n",
       "    </tr>\n",
       "    <tr>\n",
       "      <th>4</th>\n",
       "      <td>5</td>\n",
       "      <td>762745</td>\n",
       "      <td>ADME</td>\n",
       "      <td>22224</td>\n",
       "      <td>standard_value</td>\n",
       "      <td>17280.000000</td>\n",
       "      <td>&gt;=</td>\n",
       "      <td>1.0</td>\n",
       "    </tr>\n",
       "    <tr>\n",
       "      <th>5</th>\n",
       "      <td>6</td>\n",
       "      <td>425249</td>\n",
       "      <td>ADME</td>\n",
       "      <td>80156</td>\n",
       "      <td>standard_value</td>\n",
       "      <td>3200.000000</td>\n",
       "      <td>&gt;=</td>\n",
       "      <td>1.0</td>\n",
       "    </tr>\n",
       "    <tr>\n",
       "      <th>6</th>\n",
       "      <td>7</td>\n",
       "      <td>1572745</td>\n",
       "      <td>ADME</td>\n",
       "      <td>22224</td>\n",
       "      <td>standard_value</td>\n",
       "      <td>148000.000000</td>\n",
       "      <td>&gt;=</td>\n",
       "      <td>1.0</td>\n",
       "    </tr>\n",
       "    <tr>\n",
       "      <th>7</th>\n",
       "      <td>8</td>\n",
       "      <td>458976</td>\n",
       "      <td>ADME</td>\n",
       "      <td>11365</td>\n",
       "      <td>standard_value</td>\n",
       "      <td>1148.912529</td>\n",
       "      <td>&gt;=</td>\n",
       "      <td>1.0</td>\n",
       "    </tr>\n",
       "    <tr>\n",
       "      <th>8</th>\n",
       "      <td>9</td>\n",
       "      <td>649312</td>\n",
       "      <td>ADME</td>\n",
       "      <td>80548</td>\n",
       "      <td>standard_value</td>\n",
       "      <td>50000.000000</td>\n",
       "      <td>&gt;=</td>\n",
       "      <td>1.0</td>\n",
       "    </tr>\n",
       "    <tr>\n",
       "      <th>9</th>\n",
       "      <td>10</td>\n",
       "      <td>944913</td>\n",
       "      <td>ADME</td>\n",
       "      <td>81135</td>\n",
       "      <td>standard_value</td>\n",
       "      <td>57000.000000</td>\n",
       "      <td>&gt;=</td>\n",
       "      <td>1.0</td>\n",
       "    </tr>\n",
       "  </tbody>\n",
       "</table>\n",
       "</div>"
      ],
      "text/plain": [
       "   classification_task_id  input_assay_id assay_type  target_id  \\\n",
       "0                       1          942987       ADME      81135   \n",
       "1                       2         1617702      PANEL      22221   \n",
       "2                       3          305428       ADME      12594   \n",
       "3                       4          451490       ADME      80583   \n",
       "4                       5          762745       ADME      22224   \n",
       "5                       6          425249       ADME      80156   \n",
       "6                       7         1572745       ADME      22224   \n",
       "7                       8          458976       ADME      11365   \n",
       "8                       9          649312       ADME      80548   \n",
       "9                      10          944913       ADME      81135   \n",
       "\n",
       "  threshold_column  threshold_value threshold_operator  weight  \n",
       "0   standard_value     74973.328591                 >=     1.0  \n",
       "1   standard_value     59000.000000                 >=     1.0  \n",
       "2   standard_value     61400.325732                 >=     1.0  \n",
       "3   standard_value    123600.000000                 >=     1.0  \n",
       "4   standard_value     17280.000000                 >=     1.0  \n",
       "5   standard_value      3200.000000                 >=     1.0  \n",
       "6   standard_value    148000.000000                 >=     1.0  \n",
       "7   standard_value      1148.912529                 >=     1.0  \n",
       "8   standard_value     50000.000000                 >=     1.0  \n",
       "9   standard_value     57000.000000                 >=     1.0  "
      ]
     },
     "execution_count": 17,
     "metadata": {},
     "output_type": "execute_result"
    }
   ],
   "source": [
    "t3_df.head(10)"
   ]
  },
  {
   "cell_type": "code",
   "execution_count": 18,
   "metadata": {},
   "outputs": [
    {
     "data": {
      "text/html": [
       "<div>\n",
       "<style scoped>\n",
       "    .dataframe tbody tr th:only-of-type {\n",
       "        vertical-align: middle;\n",
       "    }\n",
       "\n",
       "    .dataframe tbody tr th {\n",
       "        vertical-align: top;\n",
       "    }\n",
       "\n",
       "    .dataframe thead th {\n",
       "        text-align: right;\n",
       "    }\n",
       "</style>\n",
       "<table border=\"1\" class=\"dataframe\">\n",
       "  <thead>\n",
       "    <tr style=\"text-align: right;\">\n",
       "      <th></th>\n",
       "      <th>input_compound_id</th>\n",
       "      <th>classification_task_id</th>\n",
       "      <th>class_label</th>\n",
       "    </tr>\n",
       "    <tr>\n",
       "      <th>chembl_id</th>\n",
       "      <th></th>\n",
       "      <th></th>\n",
       "      <th></th>\n",
       "    </tr>\n",
       "  </thead>\n",
       "  <tbody>\n",
       "    <tr>\n",
       "      <th>1203610</th>\n",
       "      <td>1203610</td>\n",
       "      <td>1</td>\n",
       "      <td>1</td>\n",
       "    </tr>\n",
       "    <tr>\n",
       "      <th>1203845</th>\n",
       "      <td>1203845</td>\n",
       "      <td>1</td>\n",
       "      <td>0</td>\n",
       "    </tr>\n",
       "    <tr>\n",
       "      <th>1203966</th>\n",
       "      <td>1203966</td>\n",
       "      <td>1</td>\n",
       "      <td>1</td>\n",
       "    </tr>\n",
       "    <tr>\n",
       "      <th>1203507</th>\n",
       "      <td>1203507</td>\n",
       "      <td>1</td>\n",
       "      <td>0</td>\n",
       "    </tr>\n",
       "    <tr>\n",
       "      <th>1203480</th>\n",
       "      <td>1203480</td>\n",
       "      <td>1</td>\n",
       "      <td>0</td>\n",
       "    </tr>\n",
       "    <tr>\n",
       "      <th>1203702</th>\n",
       "      <td>1203702</td>\n",
       "      <td>1</td>\n",
       "      <td>0</td>\n",
       "    </tr>\n",
       "    <tr>\n",
       "      <th>1203385</th>\n",
       "      <td>1203385</td>\n",
       "      <td>1</td>\n",
       "      <td>0</td>\n",
       "    </tr>\n",
       "    <tr>\n",
       "      <th>1203510</th>\n",
       "      <td>1203510</td>\n",
       "      <td>1</td>\n",
       "      <td>1</td>\n",
       "    </tr>\n",
       "    <tr>\n",
       "      <th>1203982</th>\n",
       "      <td>1203982</td>\n",
       "      <td>1</td>\n",
       "      <td>1</td>\n",
       "    </tr>\n",
       "    <tr>\n",
       "      <th>1203434</th>\n",
       "      <td>1203434</td>\n",
       "      <td>1</td>\n",
       "      <td>1</td>\n",
       "    </tr>\n",
       "  </tbody>\n",
       "</table>\n",
       "</div>"
      ],
      "text/plain": [
       "           input_compound_id  classification_task_id class_label\n",
       "chembl_id                                                       \n",
       "1203610              1203610                       1           1\n",
       "1203845              1203845                       1           0\n",
       "1203966              1203966                       1           1\n",
       "1203507              1203507                       1           0\n",
       "1203480              1203480                       1           0\n",
       "1203702              1203702                       1           0\n",
       "1203385              1203385                       1           0\n",
       "1203510              1203510                       1           1\n",
       "1203982              1203982                       1           1\n",
       "1203434              1203434                       1           1"
      ]
     },
     "execution_count": 18,
     "metadata": {},
     "output_type": "execute_result"
    }
   ],
   "source": [
    "t4_df.head(10)"
   ]
  },
  {
   "cell_type": "code",
   "execution_count": 19,
   "metadata": {},
   "outputs": [],
   "source": [
    "t2_df.to_csv(output_directory + '/T2.csv', index=False)\n",
    "t3_df.to_csv(output_directory + '/T3.csv', index=False)\n",
    "t4_df.to_csv(output_directory + '/T4.csv', index=False)"
   ]
  }
 ],
 "metadata": {
  "kernelspec": {
   "display_name": "Python 3",
   "language": "python",
   "name": "python3"
  },
  "language_info": {
   "codemirror_mode": {
    "name": "ipython",
    "version": 3
   },
   "file_extension": ".py",
   "mimetype": "text/x-python",
   "name": "python",
   "nbconvert_exporter": "python",
   "pygments_lexer": "ipython3",
   "version": "3.6.8"
  }
 },
 "nbformat": 4,
 "nbformat_minor": 2
}
