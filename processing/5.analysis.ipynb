{
 "cells": [
  {
   "cell_type": "code",
   "execution_count": 1,
   "metadata": {},
   "outputs": [],
   "source": [
    "from assay_processing import *"
   ]
  },
  {
   "cell_type": "code",
   "execution_count": 2,
   "metadata": {},
   "outputs": [],
   "source": [
    "from pandas import read_csv"
   ]
  },
  {
   "cell_type": "markdown",
   "metadata": {},
   "source": [
    "---\n",
    "# P"
   ]
  },
  {
   "cell_type": "code",
   "execution_count": 3,
   "metadata": {},
   "outputs": [],
   "source": [
    "solubility_df = read_csv('data/physicochemical_solubility.csv')\n",
    "logP_df = read_csv('data/physicochemical_logp.csv')\n",
    "logD_df = read_csv('data/physicochemical_logd.csv')"
   ]
  },
  {
   "cell_type": "code",
   "execution_count": 5,
   "metadata": {},
   "outputs": [],
   "source": [
    "start = 2000000\n",
    "for i, label in enumerate(logD_df.pH.unique()):\n",
    "    logD_df.loc[logD_df['pH'] == label, 'assay_id'] = start + i\n",
    "    \n",
    "start = 3000000 \n",
    "for i, label in enumerate(solubility_df.pH_solvent.unique()):\n",
    "    solubility_df.loc[solubility_df['pH_solvent'] == label, 'assay_id'] = start + i\n",
    "    \n",
    "logP_df.assay_id = 4000000"
   ]
  },
  {
   "cell_type": "code",
   "execution_count": 6,
   "metadata": {},
   "outputs": [],
   "source": [
    "soluability_df['standard_value'] = solubility_df.logS.apply(log_to_nanomol)\n",
    "logD_df['standard_value'] = logD_df.standard_value.apply(log_to_nanomol)\n",
    "logP_df['standard_value'] = logP_df.standard_value.apply(log_to_nanomol)"
   ]
  },
  {
   "cell_type": "code",
   "execution_count": 7,
   "metadata": {},
   "outputs": [
    {
     "name": "stdout",
     "output_type": "stream",
     "text": [
      "Solubility assays: 118\n",
      "Log D assays: 44\n",
      "Log P assays: 1\n"
     ]
    }
   ],
   "source": [
    "print(f'Solubility assays: {len(solubility_df.assay_id.unique())}')\n",
    "print(f'Log D assays: {len(logD_df.assay_id.unique())}')\n",
    "print(f'Log P assays: {len(logP_df.assay_id.unique())}')"
   ]
  },
  {
   "cell_type": "code",
   "execution_count": 8,
   "metadata": {},
   "outputs": [],
   "source": [
    "t3_data, t4_data, assay_ids_to_drop = bin_assays(solubility_df)\n",
    "solubility_df = delete_assays(assay_ids_to_drop, solubility_df)\n",
    "t3_solubility_df = build_t3(t3_data)\n",
    "t4_solubility_df = build_t4(t4_data)"
   ]
  },
  {
   "cell_type": "code",
   "execution_count": 9,
   "metadata": {},
   "outputs": [],
   "source": [
    "t3_data, t4_data, assay_ids_to_drop = bin_assays(logD_df)\n",
    "logD_df = delete_assays(assay_ids_to_drop, logD_df)\n",
    "t3_logD_df = build_t3(t3_data)\n",
    "t4_logD_df = build_t4(t4_data)"
   ]
  },
  {
   "cell_type": "code",
   "execution_count": 10,
   "metadata": {},
   "outputs": [],
   "source": [
    "t3_data, t4_data, assay_ids_to_drop = bin_assays(logP_df)\n",
    "logP_df = delete_assays(assay_ids_to_drop, logP_df)\n",
    "t3_logP_df = build_t3(t3_data)\n",
    "t4_logP_df = build_t4(t4_data)"
   ]
  },
  {
   "cell_type": "code",
   "execution_count": 11,
   "metadata": {},
   "outputs": [
    {
     "name": "stdout",
     "output_type": "stream",
     "text": [
      "Solubility assays: 18\n",
      "Log D assays: 9\n",
      "Log P assays: 1\n"
     ]
    }
   ],
   "source": [
    "print(f'Solubility assays: {len(solubility_df.assay_id.unique())}')\n",
    "print(f'Log D assays: {len(logD_df.assay_id.unique())}')\n",
    "print(f'Log P assays: {len(logP_df.assay_id.unique())}')"
   ]
  },
  {
   "cell_type": "code",
   "execution_count": 12,
   "metadata": {},
   "outputs": [
    {
     "name": "stdout",
     "output_type": "stream",
     "text": [
      "Solubility tasks: 52\n",
      "Log D tasks: 20\n",
      "Log P tasks: 5\n"
     ]
    }
   ],
   "source": [
    "print(f'Solubility tasks: {len(t3_solubility_df.classification_task_id.unique())}')\n",
    "print(f'Log D tasks: {len(t3_logD_df.classification_task_id.unique())}')\n",
    "print(f'Log P tasks: {len(t3_logP_df.classification_task_id.unique())}')"
   ]
  },
  {
   "cell_type": "markdown",
   "metadata": {},
   "source": [
    "---\n",
    "# A&T"
   ]
  },
  {
   "cell_type": "code",
   "execution_count": 19,
   "metadata": {},
   "outputs": [],
   "source": [
    "at_df = read_csv('data/admet_tox.csv', low_memory=False)"
   ]
  },
  {
   "cell_type": "code",
   "execution_count": 20,
   "metadata": {},
   "outputs": [
    {
     "name": "stdout",
     "output_type": "stream",
     "text": [
      "A&T assays: 120\n"
     ]
    }
   ],
   "source": [
    "print(f'A&T assays: {len(at_df.assay_id.unique())}')"
   ]
  },
  {
   "cell_type": "code",
   "execution_count": 21,
   "metadata": {},
   "outputs": [],
   "source": [
    "t3_data, t4_data, assay_ids_to_drop = bin_assays(at_df)\n",
    "at_df = delete_assays(assay_ids_to_drop, at_df)\n",
    "t3_at_df = build_t3(t3_data)\n",
    "t4_at_df = build_t4(t4_data)"
   ]
  },
  {
   "cell_type": "code",
   "execution_count": 22,
   "metadata": {},
   "outputs": [
    {
     "name": "stdout",
     "output_type": "stream",
     "text": [
      "A&T assays: 74\n",
      "A&T tasks: 87\n"
     ]
    }
   ],
   "source": [
    "print(f'A&T assays: {len(at_df.assay_id.unique())}')\n",
    "print(f'A&T tasks: {len(t3_at_df.classification_task_id.unique())}')"
   ]
  },
  {
   "cell_type": "markdown",
   "metadata": {},
   "source": [
    "---\n",
    "# B&F"
   ]
  },
  {
   "cell_type": "code",
   "execution_count": 23,
   "metadata": {},
   "outputs": [],
   "source": [
    "bf_df = read_csv('data/binding_functional.csv', low_memory=False)"
   ]
  },
  {
   "cell_type": "code",
   "execution_count": 24,
   "metadata": {},
   "outputs": [
    {
     "name": "stdout",
     "output_type": "stream",
     "text": [
      "B&F assays: 2979\n"
     ]
    }
   ],
   "source": [
    "print(f'B&F assays: {len(bf_df.assay_id.unique())}')"
   ]
  },
  {
   "cell_type": "code",
   "execution_count": 25,
   "metadata": {},
   "outputs": [],
   "source": [
    "t3_data, t4_data, assay_ids_to_drop = bin_assays(bf_df)\n",
    "bf_df = delete_assays(assay_ids_to_drop, bf_df)\n",
    "t3_bf_df = build_t3(t3_data)\n",
    "t4_bf_df = build_t4(t4_data)"
   ]
  },
  {
   "cell_type": "code",
   "execution_count": 27,
   "metadata": {},
   "outputs": [
    {
     "name": "stdout",
     "output_type": "stream",
     "text": [
      "B&F assays: 2876\n",
      "B&F tasks: 3919\n"
     ]
    }
   ],
   "source": [
    "print(f'B&F assays: {len(bf_df.assay_id.unique())}')\n",
    "print(f'B&F tasks: {len(t3_bf_df.classification_task_id.unique())}')"
   ]
  },
  {
   "cell_type": "markdown",
   "metadata": {},
   "source": [
    "--- \n",
    "# All"
   ]
  },
  {
   "cell_type": "code",
   "execution_count": 29,
   "metadata": {},
   "outputs": [],
   "source": [
    "t3_global_df = read_csv('deliverables/T3.csv', low_memory=False)"
   ]
  },
  {
   "cell_type": "code",
   "execution_count": 34,
   "metadata": {},
   "outputs": [
    {
     "name": "stdout",
     "output_type": "stream",
     "text": [
      "All assays: 2978\n",
      "All tasks: 4083\n"
     ]
    }
   ],
   "source": [
    "print(f'All assays: {len(t3_global_df.input_assay_id.unique())}')\n",
    "print(f'All tasks: {len(t3_global_df.classification_task_id.unique())}')"
   ]
  },
  {
   "cell_type": "code",
   "execution_count": 36,
   "metadata": {},
   "outputs": [
    {
     "data": {
      "text/plain": [
       "1    2268\n",
       "2     391\n",
       "3     256\n",
       "4      50\n",
       "5      13\n",
       "Name: input_assay_id, dtype: int64"
      ]
     },
     "execution_count": 36,
     "metadata": {},
     "output_type": "execute_result"
    }
   ],
   "source": [
    "t3_global_df.input_assay_id.value_counts().value_counts()"
   ]
  }
 ],
 "metadata": {
  "kernelspec": {
   "display_name": "Python 3",
   "language": "python",
   "name": "python3"
  },
  "language_info": {
   "codemirror_mode": {
    "name": "ipython",
    "version": 3
   },
   "file_extension": ".py",
   "mimetype": "text/x-python",
   "name": "python",
   "nbconvert_exporter": "python",
   "pygments_lexer": "ipython3",
   "version": "3.6.8"
  }
 },
 "nbformat": 4,
 "nbformat_minor": 2
}
