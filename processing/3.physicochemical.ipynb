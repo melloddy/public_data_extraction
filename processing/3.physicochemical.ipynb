{
 "cells": [
  {
   "cell_type": "code",
   "execution_count": 1,
   "metadata": {},
   "outputs": [],
   "source": [
    "import pandas as pd\n",
    "import numpy as np\n",
    "import copy\n",
    "import re\n",
    "from rdkit import Chem\n",
    "from rdkit.Chem import AllChem, Descriptors\n",
    "\n",
    "def ug_per_ml_to_nM(solubility_ug_per_ml, smiles):\n",
    "    molar_mass = Descriptors.ExactMolWt(Chem.MolFromSmiles(smiles))\n",
    "    return solubility_ug_per_ml * 10**6 / molar_mass\n",
    "\n",
    "def nM_to_log(value_nM):\n",
    "    if value_nM==0.0:\n",
    "        return np.NaN\n",
    "    return -np.log10(value_nM * (10**-9))\n",
    "\n",
    "\n",
    "def grep_pH(string):\n",
    "    match = re.search('.+ph\\s*(\\d\\.*\\d*)', string.lower())\n",
    "    if match is not None:\n",
    "        return float(match[1])\n",
    "    match = re.search('.+ph\\s*of\\s*(\\d\\.*\\d*)', string.lower())\n",
    "    if match is not None:\n",
    "        return float(match[1])\n",
    "    match = re.search('.+ph\\s*\\=\\s*(\\d\\.*\\d*)', string.lower())\n",
    "    if match is not None:\n",
    "        return float(match[1])\n",
    "    match = re.search('.+ph\\s*\\-\\s*(\\d\\.*\\d*)', string.lower())\n",
    "    if match is not None:\n",
    "        return float(match[1])\n",
    "    match = re.search('.+(\\d\\.*\\d*)\\s*ph', string.lower())\n",
    "    if match is not None:\n",
    "        return float(match[1])\n",
    "    return np.NaN\n",
    "\n",
    "def grep_solvent(string):\n",
    "    solvent = np.NaN\n",
    "    match = re.search('.*aqueous', string.lower())\n",
    "    if match is not None:\n",
    "        solvent = \"water\"\n",
    "        return solvent        \n",
    "    match = re.search('.*water', string.lower())\n",
    "    if match is not None:\n",
    "        solvent = \"water\"\n",
    "        return solvent        \n",
    "    match = re.search('.*h2o', string.lower())\n",
    "    if match is not None:\n",
    "        solvent = \"water\"\n",
    "        return solvent                \n",
    "    match = re.search('.*phosphate', string.lower())\n",
    "    if match is not None:\n",
    "        solvent = \"pbs\"\n",
    "        return solvent        \n",
    "    match = re.search('.*pbs', string.lower())\n",
    "    if match is not None:\n",
    "        solvent = \"pbs\"\n",
    "        return solvent        \n",
    "    match = re.search('.*dmso', string.lower())\n",
    "    if match is not None:\n",
    "        solvent = \"dmso\"\n",
    "        return solvent\n",
    "    match = re.search('.*tris', string.lower())\n",
    "    if match is not None:\n",
    "        solvent = \"tris\"\n",
    "        return solvent\n",
    "    return solvent\n",
    "\n",
    "%matplotlib inline"
   ]
  },
  {
   "cell_type": "code",
   "execution_count": 2,
   "metadata": {},
   "outputs": [],
   "source": [
    "data = pd.read_csv('deliverables/chembl_extract.csv', low_memory = False)"
   ]
  },
  {
   "cell_type": "code",
   "execution_count": 3,
   "metadata": {},
   "outputs": [],
   "source": [
    "data = data.loc[data['assay_type'].isin(['P'])]"
   ]
  },
  {
   "cell_type": "markdown",
   "metadata": {},
   "source": [
    "### solubility"
   ]
  },
  {
   "cell_type": "code",
   "execution_count": 4,
   "metadata": {},
   "outputs": [],
   "source": [
    "solubility = copy.deepcopy(data.loc[((data['standard_type'] == 'Solubility') & \n",
    "                                    ((data['standard_units'] == 'ug.mL-1') | \n",
    "                                     (data['standard_units'] == 'nM'))) |\n",
    "                                    (data['standard_type'] == 'Log S') |\n",
    "                                    (data['standard_type'] == '-log(solubility)')])"
   ]
  },
  {
   "cell_type": "code",
   "execution_count": null,
   "metadata": {},
   "outputs": [],
   "source": []
  },
  {
   "cell_type": "code",
   "execution_count": 5,
   "metadata": {},
   "outputs": [],
   "source": [
    "pH = []\n",
    "for string in solubility['assay_description']:\n",
    "    pH.append(grep_pH(string))\n",
    "solubility['pH'] = pH\n",
    "solvent = list()\n",
    "for string in solubility['assay_description']:\n",
    "    solvent.append(grep_solvent(string))\n",
    "solubility['solvent'] = solvent\n",
    "solubility.dropna(subset=['pH', 'solvent'], inplace=True)\n",
    "solubility.reset_index(inplace=True)\n",
    "solubility['pH_solvent'] = [str(x)+'_'+y for x,y in zip(solubility['pH'], solubility['solvent'])]"
   ]
  },
  {
   "cell_type": "code",
   "execution_count": 6,
   "metadata": {},
   "outputs": [],
   "source": [
    "logS = list()\n",
    "for i in solubility.index:\n",
    "    if solubility['standard_type'][i] == 'Solubility':\n",
    "        if solubility['standard_units'][i]=='ug.mL-1':\n",
    "            logS.append(nM_to_log(ug_per_ml_to_nM(solubility['standard_value'][i], solubility['canonical_smiles'][i])))\n",
    "        elif solubility['standard_units'][i]=='nM':\n",
    "            logS.append(nM_to_log(solubility['standard_value'][i]))\n",
    "    elif (solubility['standard_type'][i]=='Log S') or (solubility['standard_type'][i]=='-log(solubility)'):\n",
    "        logS.append(solubility['standard_value'][i])\n",
    "solubility['logS']=logS\n",
    "solubility.dropna(subset=['logS'], inplace=True)\n",
    "solubility.reset_index(inplace=True)"
   ]
  },
  {
   "cell_type": "code",
   "execution_count": 7,
   "metadata": {},
   "outputs": [
    {
     "name": "stdout",
     "output_type": "stream",
     "text": [
      "-8.7\n",
      "11.47597560832878\n"
     ]
    }
   ],
   "source": [
    "print(min(solubility['logS']))\n",
    "print(max(solubility['logS']))"
   ]
  },
  {
   "cell_type": "code",
   "execution_count": 8,
   "metadata": {},
   "outputs": [
    {
     "data": {
      "text/plain": [
       "array([[<matplotlib.axes._subplots.AxesSubplot object at 0x139ddf7f0>]],\n",
       "      dtype=object)"
      ]
     },
     "execution_count": 8,
     "metadata": {},
     "output_type": "execute_result"
    },
    {
     "data": {
      "image/png": "[encoded data removed]",
      "text/plain": [
       "<Figure size 432x288 with 1 Axes>"
      ]
     },
     "metadata": {},
     "output_type": "display_data"
    }
   ],
   "source": [
    "solubility.hist(['logS'], bins=30)"
   ]
  },
  {
   "cell_type": "code",
   "execution_count": 9,
   "metadata": {},
   "outputs": [
    {
     "data": {
      "text/plain": [
       "pH_solvent\n",
       "7.4_water    3451\n",
       "7.4_pbs      3063\n",
       "7.0_water     858\n",
       "6.5_pbs       657\n",
       "6.8_water     647\n",
       "6.5_water     592\n",
       "2.0_water     374\n",
       "7.0_pbs       231\n",
       "4.0_water     195\n",
       "6.8_pbs       193\n",
       "7.2_water     139\n",
       "1.0_water     122\n",
       "6.8_dmso      101\n",
       "1.2_water      96\n",
       "7.2_pbs        96\n",
       "2.0_pbs        84\n",
       "5.0_water      84\n",
       "7.4_dmso       56\n",
       "7.5_water      50\n",
       "Name: canonical_smiles, dtype: int64"
      ]
     },
     "execution_count": 9,
     "metadata": {},
     "output_type": "execute_result"
    }
   ],
   "source": [
    "solubility.groupby(['pH_solvent']).count().sort_values('canonical_smiles', ascending = False)['canonical_smiles'][:19]"
   ]
  },
  {
   "cell_type": "code",
   "execution_count": 10,
   "metadata": {},
   "outputs": [
    {
     "name": "stdout",
     "output_type": "stream",
     "text": [
      "11900\n"
     ]
    }
   ],
   "source": [
    "print(len(solubility))"
   ]
  },
  {
   "cell_type": "markdown",
   "metadata": {},
   "source": [
    "### logd"
   ]
  },
  {
   "cell_type": "code",
   "execution_count": 11,
   "metadata": {},
   "outputs": [],
   "source": [
    "logd = copy.deepcopy(data.loc[(data['standard_type'] == 'LogD') | \n",
    "                            (data['standard_type'] == 'LogD6.5') | \n",
    "                            (data['standard_type'] == 'LogD7.4') | \n",
    "                            (data['standard_type'] == 'LogD5.0')])"
   ]
  },
  {
   "cell_type": "code",
   "execution_count": 12,
   "metadata": {},
   "outputs": [
    {
     "name": "stdout",
     "output_type": "stream",
     "text": [
      "-14.0\n",
      "4872.0\n"
     ]
    }
   ],
   "source": [
    "print(min(logd['standard_value']))\n",
    "print(max(logd['standard_value']))"
   ]
  },
  {
   "cell_type": "code",
   "execution_count": 13,
   "metadata": {},
   "outputs": [],
   "source": [
    "pH = []\n",
    "for string in logd['assay_description']:\n",
    "    pH.append(grep_pH(string))\n",
    "logd['pH'] = pH\n",
    "for i in logd.index:\n",
    "    if data['standard_type'][i]=='LogD6.5':\n",
    "        logd.at[i, 'pH']=6.5\n",
    "    if data['standard_type'][i]=='LogD7.4':\n",
    "        logd.at[i, 'pH']=7.4\n",
    "    if data['standard_type'][i]=='LogD5.0':\n",
    "        logd.at[i, 'pH']=5.0\n",
    "logd.dropna(subset=['pH'], inplace=True)\n",
    "logd.reset_index(inplace=True)\n",
    "logd = logd.loc[(logd['standard_value']<20) &(logd['standard_value']>-10)]"
   ]
  },
  {
   "cell_type": "code",
   "execution_count": 14,
   "metadata": {},
   "outputs": [
    {
     "data": {
      "text/plain": [
       "array([[<matplotlib.axes._subplots.AxesSubplot object at 0x13ba2eda0>]],\n",
       "      dtype=object)"
      ]
     },
     "execution_count": 14,
     "metadata": {},
     "output_type": "execute_result"
    },
    {
     "data": {
      "image/png": "[encoded data removed]",
      "text/plain": [
       "<Figure size 432x288 with 1 Axes>"
      ]
     },
     "metadata": {},
     "output_type": "display_data"
    }
   ],
   "source": [
    "logd.hist(['standard_value'], bins=30)"
   ]
  },
  {
   "cell_type": "code",
   "execution_count": 15,
   "metadata": {},
   "outputs": [
    {
     "data": {
      "text/plain": [
       "pH\n",
       "7.4     13876\n",
       "7.0       218\n",
       "3.0       199\n",
       "6.5       173\n",
       "7.2       112\n",
       "6.8       112\n",
       "5.0        68\n",
       "5.5        54\n",
       "7.3        50\n",
       "7.5        44\n",
       "2.0        40\n",
       "6.0        40\n",
       "5.2        39\n",
       "10.0       33\n",
       "Name: canonical_smiles, dtype: int64"
      ]
     },
     "execution_count": 15,
     "metadata": {},
     "output_type": "execute_result"
    }
   ],
   "source": [
    "logd.groupby(['pH']).count().sort_values('canonical_smiles', ascending = False)['canonical_smiles'][:10]"
   ]
  },
  {
   "cell_type": "code",
   "execution_count": 16,
   "metadata": {},
   "outputs": [
    {
     "name": "stdout",
     "output_type": "stream",
     "text": [
      "15315\n"
     ]
    }
   ],
   "source": [
    "print(len(logd))"
   ]
  },
  {
   "cell_type": "markdown",
   "metadata": {},
   "source": [
    "### logp"
   ]
  },
  {
   "cell_type": "code",
   "execution_count": 17,
   "metadata": {},
   "outputs": [],
   "source": [
    "logp =  copy.deepcopy(data.loc[data['standard_type'] == 'LogP'])"
   ]
  },
  {
   "cell_type": "code",
   "execution_count": 18,
   "metadata": {},
   "outputs": [
    {
     "name": "stdout",
     "output_type": "stream",
     "text": [
      "-741.0\n",
      "27000.0\n"
     ]
    }
   ],
   "source": [
    "print(min(logp['standard_value']))\n",
    "print(max(logp['standard_value']))"
   ]
  },
  {
   "cell_type": "code",
   "execution_count": 19,
   "metadata": {},
   "outputs": [
    {
     "data": {
      "text/plain": [
       "array([[<matplotlib.axes._subplots.AxesSubplot object at 0x13b77f4a8>]],\n",
       "      dtype=object)"
      ]
     },
     "execution_count": 19,
     "metadata": {},
     "output_type": "execute_result"
    },
    {
     "data": {
      "image/png": "[encoded data removed]",
      "text/plain": [
       "<Figure size 432x288 with 1 Axes>"
      ]
     },
     "metadata": {},
     "output_type": "display_data"
    }
   ],
   "source": [
    "logp = logp.loc[(logp['standard_value']<20) & (logp['standard_value']>-10)]\n",
    "logp.hist(['standard_value'], bins=30)"
   ]
  },
  {
   "cell_type": "code",
   "execution_count": 20,
   "metadata": {},
   "outputs": [
    {
     "name": "stdout",
     "output_type": "stream",
     "text": [
      "16853\n"
     ]
    }
   ],
   "source": [
    "print(len(logp))"
   ]
  },
  {
   "cell_type": "code",
   "execution_count": 21,
   "metadata": {},
   "outputs": [],
   "source": [
    "solubility.to_csv('data/physicochemical_solubility.csv', index=False)"
   ]
  },
  {
   "cell_type": "code",
   "execution_count": 22,
   "metadata": {},
   "outputs": [],
   "source": [
    "logd.to_csv('data/physicochemical_logd.csv', index=False)"
   ]
  },
  {
   "cell_type": "code",
   "execution_count": 23,
   "metadata": {},
   "outputs": [],
   "source": [
    "logp.to_csv('data/physicochemical_logp.csv', index=False)"
   ]
  }
 ],
 "metadata": {
  "kernelspec": {
   "display_name": "Python 3",
   "language": "python",
   "name": "python3"
  },
  "language_info": {
   "codemirror_mode": {
    "name": "ipython",
    "version": 3
   },
   "file_extension": ".py",
   "mimetype": "text/x-python",
   "name": "python",
   "nbconvert_exporter": "python",
   "pygments_lexer": "ipython3",
   "version": "3.6.8"
  }
 },
 "nbformat": 4,
 "nbformat_minor": 4
}
