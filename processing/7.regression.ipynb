{
 "cells": [
  {
   "cell_type": "code",
   "execution_count": 1,
   "metadata": {},
   "outputs": [],
   "source": [
    "from pandas import read_csv, concat"
   ]
  },
  {
   "cell_type": "code",
   "execution_count": 2,
   "metadata": {},
   "outputs": [],
   "source": [
    "from assay_processing import regression_extract, build_t2, build_t3, build_t4"
   ]
  },
  {
   "cell_type": "markdown",
   "metadata": {},
   "source": [
    "---\n",
    "## Read Data"
   ]
  },
  {
   "cell_type": "code",
   "execution_count": 3,
   "metadata": {},
   "outputs": [],
   "source": [
    "input_directory = 'data'\n",
    "output_directory = 'deliverables/regression'"
   ]
  },
  {
   "cell_type": "code",
   "execution_count": 4,
   "metadata": {},
   "outputs": [],
   "source": [
    "files = [\n",
    "    'admet_tox.csv',\n",
    "    'binding_functional.csv',\n",
    "    'physico_chemical.csv',\n",
    "]\n",
    "file_paths = [f'{input_directory}/{f}' for f in files]"
   ]
  },
  {
   "cell_type": "code",
   "execution_count": 5,
   "metadata": {},
   "outputs": [],
   "source": [
    "dfs = [read_csv(file_path, low_memory=False) for file_path in file_paths]\n",
    "df = concat(dfs, sort=False)"
   ]
  },
  {
   "cell_type": "markdown",
   "metadata": {},
   "source": [
    "---\n",
    "## Extract Tables for Regression"
   ]
  },
  {
   "cell_type": "code",
   "execution_count": 9,
   "metadata": {},
   "outputs": [],
   "source": [
    "t3_df, t4_df = regression_extract(df)"
   ]
  },
  {
   "cell_type": "code",
   "execution_count": 8,
   "metadata": {
    "collapsed": true
   },
   "outputs": [
    {
     "ename": "ValueError",
     "evalue": "DataFrame constructor not properly called!",
     "output_type": "error",
     "traceback": [
      "\u001b[0;31m---------------------------------------------------------------------------\u001b[0m",
      "\u001b[0;31mValueError\u001b[0m                                Traceback (most recent call last)",
      "\u001b[0;32m<ipython-input-8-fc482f67942e>\u001b[0m in \u001b[0;36m<module>\u001b[0;34m()\u001b[0m\n\u001b[1;32m      1\u001b[0m \u001b[0mt2_df\u001b[0m \u001b[0;34m=\u001b[0m \u001b[0mbuild_t2\u001b[0m\u001b[0;34m(\u001b[0m\u001b[0mdf\u001b[0m\u001b[0;34m)\u001b[0m\u001b[0;34m\u001b[0m\u001b[0;34m\u001b[0m\u001b[0m\n\u001b[1;32m      2\u001b[0m \u001b[0mt3_df\u001b[0m \u001b[0;34m=\u001b[0m \u001b[0mbuild_t3\u001b[0m\u001b[0;34m(\u001b[0m\u001b[0mt3_data\u001b[0m\u001b[0;34m)\u001b[0m\u001b[0;34m\u001b[0m\u001b[0;34m\u001b[0m\u001b[0m\n\u001b[0;32m----> 3\u001b[0;31m \u001b[0mt4_df\u001b[0m \u001b[0;34m=\u001b[0m \u001b[0mbuild_t4\u001b[0m\u001b[0;34m(\u001b[0m\u001b[0mt4_data\u001b[0m\u001b[0;34m)\u001b[0m\u001b[0;34m\u001b[0m\u001b[0;34m\u001b[0m\u001b[0m\n\u001b[0m",
      "\u001b[0;32m~/iktos/melloddy_public_data_prep/processing/assay_processing.py\u001b[0m in \u001b[0;36mbuild_t4\u001b[0;34m(t4_data)\u001b[0m\n\u001b[1;32m    157\u001b[0m \u001b[0;34m\u001b[0m\u001b[0m\n\u001b[1;32m    158\u001b[0m \u001b[0;32mdef\u001b[0m \u001b[0mbuild_t4\u001b[0m\u001b[0;34m(\u001b[0m\u001b[0mt4_data\u001b[0m\u001b[0;34m:\u001b[0m \u001b[0mList\u001b[0m\u001b[0;34m)\u001b[0m \u001b[0;34m->\u001b[0m \u001b[0mDataFrame\u001b[0m\u001b[0;34m:\u001b[0m\u001b[0;34m\u001b[0m\u001b[0;34m\u001b[0m\u001b[0m\n\u001b[0;32m--> 159\u001b[0;31m     \u001b[0mt4_df\u001b[0m \u001b[0;34m=\u001b[0m \u001b[0mconcat\u001b[0m\u001b[0;34m(\u001b[0m\u001b[0;34m[\u001b[0m\u001b[0mDataFrame\u001b[0m\u001b[0;34m(\u001b[0m\u001b[0md\u001b[0m\u001b[0;34m)\u001b[0m \u001b[0;32mfor\u001b[0m \u001b[0md\u001b[0m \u001b[0;32min\u001b[0m \u001b[0mt4_data\u001b[0m\u001b[0;34m]\u001b[0m\u001b[0;34m)\u001b[0m\u001b[0;34m\u001b[0m\u001b[0;34m\u001b[0m\u001b[0m\n\u001b[0m\u001b[1;32m    160\u001b[0m     \u001b[0;32mreturn\u001b[0m \u001b[0mt4_df\u001b[0m\u001b[0;34m\u001b[0m\u001b[0;34m\u001b[0m\u001b[0m\n",
      "\u001b[0;32m~/iktos/melloddy_public_data_prep/processing/assay_processing.py\u001b[0m in \u001b[0;36m<listcomp>\u001b[0;34m(.0)\u001b[0m\n\u001b[1;32m    157\u001b[0m \u001b[0;34m\u001b[0m\u001b[0m\n\u001b[1;32m    158\u001b[0m \u001b[0;32mdef\u001b[0m \u001b[0mbuild_t4\u001b[0m\u001b[0;34m(\u001b[0m\u001b[0mt4_data\u001b[0m\u001b[0;34m:\u001b[0m \u001b[0mList\u001b[0m\u001b[0;34m)\u001b[0m \u001b[0;34m->\u001b[0m \u001b[0mDataFrame\u001b[0m\u001b[0;34m:\u001b[0m\u001b[0;34m\u001b[0m\u001b[0;34m\u001b[0m\u001b[0m\n\u001b[0;32m--> 159\u001b[0;31m     \u001b[0mt4_df\u001b[0m \u001b[0;34m=\u001b[0m \u001b[0mconcat\u001b[0m\u001b[0;34m(\u001b[0m\u001b[0;34m[\u001b[0m\u001b[0mDataFrame\u001b[0m\u001b[0;34m(\u001b[0m\u001b[0md\u001b[0m\u001b[0;34m)\u001b[0m \u001b[0;32mfor\u001b[0m \u001b[0md\u001b[0m \u001b[0;32min\u001b[0m \u001b[0mt4_data\u001b[0m\u001b[0;34m]\u001b[0m\u001b[0;34m)\u001b[0m\u001b[0;34m\u001b[0m\u001b[0;34m\u001b[0m\u001b[0m\n\u001b[0m\u001b[1;32m    160\u001b[0m     \u001b[0;32mreturn\u001b[0m \u001b[0mt4_df\u001b[0m\u001b[0;34m\u001b[0m\u001b[0;34m\u001b[0m\u001b[0m\n",
      "\u001b[0;32m~/anaconda3/lib/python3.6/site-packages/pandas/core/frame.py\u001b[0m in \u001b[0;36m__init__\u001b[0;34m(self, data, index, columns, dtype, copy)\u001b[0m\n\u001b[1;32m    507\u001b[0m                 )\n\u001b[1;32m    508\u001b[0m             \u001b[0;32melse\u001b[0m\u001b[0;34m:\u001b[0m\u001b[0;34m\u001b[0m\u001b[0;34m\u001b[0m\u001b[0m\n\u001b[0;32m--> 509\u001b[0;31m                 \u001b[0;32mraise\u001b[0m \u001b[0mValueError\u001b[0m\u001b[0;34m(\u001b[0m\u001b[0;34m\"DataFrame constructor not properly called!\"\u001b[0m\u001b[0;34m)\u001b[0m\u001b[0;34m\u001b[0m\u001b[0;34m\u001b[0m\u001b[0m\n\u001b[0m\u001b[1;32m    510\u001b[0m \u001b[0;34m\u001b[0m\u001b[0m\n\u001b[1;32m    511\u001b[0m         \u001b[0mNDFrame\u001b[0m\u001b[0;34m.\u001b[0m\u001b[0m__init__\u001b[0m\u001b[0;34m(\u001b[0m\u001b[0mself\u001b[0m\u001b[0;34m,\u001b[0m \u001b[0mmgr\u001b[0m\u001b[0;34m,\u001b[0m \u001b[0mfastpath\u001b[0m\u001b[0;34m=\u001b[0m\u001b[0;32mTrue\u001b[0m\u001b[0;34m)\u001b[0m\u001b[0;34m\u001b[0m\u001b[0;34m\u001b[0m\u001b[0m\n",
      "\u001b[0;31mValueError\u001b[0m: DataFrame constructor not properly called!"
     ]
    }
   ],
   "source": [
    "t2_df = build_t2(df)\n",
    "t3_df = build_t3(t3_data)\n",
    "t4_df = build_t4(t4_data)"
   ]
  },
  {
   "cell_type": "markdown",
   "metadata": {},
   "source": [
    "---\n",
    "## Preview"
   ]
  },
  {
   "cell_type": "code",
   "execution_count": 12,
   "metadata": {},
   "outputs": [
    {
     "data": {
      "text/html": [
       "<div>\n",
       "<style scoped>\n",
       "    .dataframe tbody tr th:only-of-type {\n",
       "        vertical-align: middle;\n",
       "    }\n",
       "\n",
       "    .dataframe tbody tr th {\n",
       "        vertical-align: top;\n",
       "    }\n",
       "\n",
       "    .dataframe thead th {\n",
       "        text-align: right;\n",
       "    }\n",
       "</style>\n",
       "<table border=\"1\" class=\"dataframe\">\n",
       "  <thead>\n",
       "    <tr style=\"text-align: right;\">\n",
       "      <th></th>\n",
       "      <th>input_compound_id</th>\n",
       "      <th>smiles</th>\n",
       "    </tr>\n",
       "  </thead>\n",
       "  <tbody>\n",
       "    <tr>\n",
       "      <th>0</th>\n",
       "      <td>1075529</td>\n",
       "      <td>Cc1cc(NC(=O)Nc2ccc(cc2)C(=O)O)c3ccccc3n1</td>\n",
       "    </tr>\n",
       "    <tr>\n",
       "      <th>1</th>\n",
       "      <td>1203610</td>\n",
       "      <td>Clc1ccc(cc1)C(N2CCN(CC2)C(=O)Nc3ccccc3)c4cccnc4</td>\n",
       "    </tr>\n",
       "    <tr>\n",
       "      <th>2</th>\n",
       "      <td>1203845</td>\n",
       "      <td>CS(=O)(=O)N1CCN(CC1)C(c2ccc(Cl)cc2)c3cccnc3</td>\n",
       "    </tr>\n",
       "    <tr>\n",
       "      <th>3</th>\n",
       "      <td>1203966</td>\n",
       "      <td>Fc1cc(Cl)ccc1C(N2CCN(CC2)C(=O)C3CCCCC3)c4cccnc4</td>\n",
       "    </tr>\n",
       "    <tr>\n",
       "      <th>4</th>\n",
       "      <td>2176418</td>\n",
       "      <td>[O-][N+](=O)c1ccccc1S(=O)(=O)Nc2ccc(cc2)c3oc4c...</td>\n",
       "    </tr>\n",
       "    <tr>\n",
       "      <th>5</th>\n",
       "      <td>9495</td>\n",
       "      <td>CC[C@H](C)C(=O)O[C@H]1C[C@@H](C)C=C2C=C[C@H](C...</td>\n",
       "    </tr>\n",
       "    <tr>\n",
       "      <th>6</th>\n",
       "      <td>88232</td>\n",
       "      <td>COc1cc2ncnc(Nc3ccc(F)c(Cl)c3)c2cc1OCCCN4CCOCC4</td>\n",
       "    </tr>\n",
       "    <tr>\n",
       "      <th>7</th>\n",
       "      <td>173</td>\n",
       "      <td>COc1ccc2c(c1)c(CC(=O)O)c(C)n2C(=O)c3ccc(Cl)cc3</td>\n",
       "    </tr>\n",
       "    <tr>\n",
       "      <th>8</th>\n",
       "      <td>21523</td>\n",
       "      <td>COc1cc(ccc1Cc2cn(C)c3ccc(NC(=O)OC4CCCC4)cc23)C...</td>\n",
       "    </tr>\n",
       "    <tr>\n",
       "      <th>9</th>\n",
       "      <td>365189</td>\n",
       "      <td>CO[C@H]1\\C=C\\O[C@@]2(C)Oc3c(C)c(O)c4c(O)c(NC(=...</td>\n",
       "    </tr>\n",
       "  </tbody>\n",
       "</table>\n",
       "</div>"
      ],
      "text/plain": [
       "   input_compound_id                                             smiles\n",
       "0            1075529           Cc1cc(NC(=O)Nc2ccc(cc2)C(=O)O)c3ccccc3n1\n",
       "1            1203610    Clc1ccc(cc1)C(N2CCN(CC2)C(=O)Nc3ccccc3)c4cccnc4\n",
       "2            1203845        CS(=O)(=O)N1CCN(CC1)C(c2ccc(Cl)cc2)c3cccnc3\n",
       "3            1203966    Fc1cc(Cl)ccc1C(N2CCN(CC2)C(=O)C3CCCCC3)c4cccnc4\n",
       "4            2176418  [O-][N+](=O)c1ccccc1S(=O)(=O)Nc2ccc(cc2)c3oc4c...\n",
       "5               9495  CC[C@H](C)C(=O)O[C@H]1C[C@@H](C)C=C2C=C[C@H](C...\n",
       "6              88232     COc1cc2ncnc(Nc3ccc(F)c(Cl)c3)c2cc1OCCCN4CCOCC4\n",
       "7                173     COc1ccc2c(c1)c(CC(=O)O)c(C)n2C(=O)c3ccc(Cl)cc3\n",
       "8              21523  COc1cc(ccc1Cc2cn(C)c3ccc(NC(=O)OC4CCCC4)cc23)C...\n",
       "9             365189  CO[C@H]1\\C=C\\O[C@@]2(C)Oc3c(C)c(O)c4c(O)c(NC(=..."
      ]
     },
     "execution_count": 12,
     "metadata": {},
     "output_type": "execute_result"
    }
   ],
   "source": [
    "t2_df.head(10)"
   ]
  },
  {
   "cell_type": "code",
   "execution_count": 10,
   "metadata": {},
   "outputs": [
    {
     "data": {
      "text/html": [
       "<div>\n",
       "<style scoped>\n",
       "    .dataframe tbody tr th:only-of-type {\n",
       "        vertical-align: middle;\n",
       "    }\n",
       "\n",
       "    .dataframe tbody tr th {\n",
       "        vertical-align: top;\n",
       "    }\n",
       "\n",
       "    .dataframe thead th {\n",
       "        text-align: right;\n",
       "    }\n",
       "</style>\n",
       "<table border=\"1\" class=\"dataframe\">\n",
       "  <thead>\n",
       "    <tr style=\"text-align: right;\">\n",
       "      <th></th>\n",
       "      <th>input_assay_id</th>\n",
       "      <th>regression_task_id</th>\n",
       "      <th>assay_type</th>\n",
       "      <th>target_id</th>\n",
       "    </tr>\n",
       "  </thead>\n",
       "  <tbody>\n",
       "    <tr>\n",
       "      <th>0</th>\n",
       "      <td>729459</td>\n",
       "      <td>0</td>\n",
       "      <td>ADME</td>\n",
       "      <td>81020</td>\n",
       "    </tr>\n",
       "    <tr>\n",
       "      <th>1</th>\n",
       "      <td>942987</td>\n",
       "      <td>1</td>\n",
       "      <td>ADME</td>\n",
       "      <td>81135</td>\n",
       "    </tr>\n",
       "    <tr>\n",
       "      <th>2</th>\n",
       "      <td>1617702</td>\n",
       "      <td>2</td>\n",
       "      <td>PANEL</td>\n",
       "      <td>22221</td>\n",
       "    </tr>\n",
       "    <tr>\n",
       "      <th>3</th>\n",
       "      <td>1678646</td>\n",
       "      <td>3</td>\n",
       "      <td>ADME</td>\n",
       "      <td>102723</td>\n",
       "    </tr>\n",
       "    <tr>\n",
       "      <th>4</th>\n",
       "      <td>305428</td>\n",
       "      <td>4</td>\n",
       "      <td>ADME</td>\n",
       "      <td>12594</td>\n",
       "    </tr>\n",
       "    <tr>\n",
       "      <th>5</th>\n",
       "      <td>451490</td>\n",
       "      <td>5</td>\n",
       "      <td>ADME</td>\n",
       "      <td>80583</td>\n",
       "    </tr>\n",
       "    <tr>\n",
       "      <th>6</th>\n",
       "      <td>762745</td>\n",
       "      <td>6</td>\n",
       "      <td>ADME</td>\n",
       "      <td>22224</td>\n",
       "    </tr>\n",
       "    <tr>\n",
       "      <th>7</th>\n",
       "      <td>425249</td>\n",
       "      <td>7</td>\n",
       "      <td>ADME</td>\n",
       "      <td>80156</td>\n",
       "    </tr>\n",
       "    <tr>\n",
       "      <th>8</th>\n",
       "      <td>1572745</td>\n",
       "      <td>8</td>\n",
       "      <td>ADME</td>\n",
       "      <td>22224</td>\n",
       "    </tr>\n",
       "    <tr>\n",
       "      <th>9</th>\n",
       "      <td>458976</td>\n",
       "      <td>9</td>\n",
       "      <td>ADME</td>\n",
       "      <td>11365</td>\n",
       "    </tr>\n",
       "  </tbody>\n",
       "</table>\n",
       "</div>"
      ],
      "text/plain": [
       "   input_assay_id  regression_task_id assay_type  target_id\n",
       "0          729459                   0       ADME      81020\n",
       "1          942987                   1       ADME      81135\n",
       "2         1617702                   2      PANEL      22221\n",
       "3         1678646                   3       ADME     102723\n",
       "4          305428                   4       ADME      12594\n",
       "5          451490                   5       ADME      80583\n",
       "6          762745                   6       ADME      22224\n",
       "7          425249                   7       ADME      80156\n",
       "8         1572745                   8       ADME      22224\n",
       "9          458976                   9       ADME      11365"
      ]
     },
     "execution_count": 10,
     "metadata": {},
     "output_type": "execute_result"
    }
   ],
   "source": [
    "t3_df.head(10)"
   ]
  },
  {
   "cell_type": "code",
   "execution_count": 11,
   "metadata": {},
   "outputs": [
    {
     "data": {
      "text/html": [
       "<div>\n",
       "<style scoped>\n",
       "    .dataframe tbody tr th:only-of-type {\n",
       "        vertical-align: middle;\n",
       "    }\n",
       "\n",
       "    .dataframe tbody tr th {\n",
       "        vertical-align: top;\n",
       "    }\n",
       "\n",
       "    .dataframe thead th {\n",
       "        text-align: right;\n",
       "    }\n",
       "</style>\n",
       "<table border=\"1\" class=\"dataframe\">\n",
       "  <thead>\n",
       "    <tr style=\"text-align: right;\">\n",
       "      <th></th>\n",
       "      <th>input_compound_id</th>\n",
       "      <th>regression_task_id</th>\n",
       "      <th>standard_value</th>\n",
       "      <th>standard_relation</th>\n",
       "      <th>standard_units</th>\n",
       "      <th>standard_type</th>\n",
       "    </tr>\n",
       "  </thead>\n",
       "  <tbody>\n",
       "    <tr>\n",
       "      <th>0</th>\n",
       "      <td>1075529</td>\n",
       "      <td>0</td>\n",
       "      <td>25000.0</td>\n",
       "      <td>&gt;</td>\n",
       "      <td>nM</td>\n",
       "      <td>EC50</td>\n",
       "    </tr>\n",
       "    <tr>\n",
       "      <th>1</th>\n",
       "      <td>1203610</td>\n",
       "      <td>1</td>\n",
       "      <td>67000.0</td>\n",
       "      <td>=</td>\n",
       "      <td>nM</td>\n",
       "      <td>IC50</td>\n",
       "    </tr>\n",
       "    <tr>\n",
       "      <th>2</th>\n",
       "      <td>1203845</td>\n",
       "      <td>1</td>\n",
       "      <td>100000.0</td>\n",
       "      <td>&gt;</td>\n",
       "      <td>nM</td>\n",
       "      <td>IC50</td>\n",
       "    </tr>\n",
       "    <tr>\n",
       "      <th>3</th>\n",
       "      <td>1203966</td>\n",
       "      <td>1</td>\n",
       "      <td>62000.0</td>\n",
       "      <td>=</td>\n",
       "      <td>nM</td>\n",
       "      <td>IC50</td>\n",
       "    </tr>\n",
       "    <tr>\n",
       "      <th>4</th>\n",
       "      <td>2176418</td>\n",
       "      <td>2</td>\n",
       "      <td>60000.0</td>\n",
       "      <td>=</td>\n",
       "      <td>nM</td>\n",
       "      <td>EC50</td>\n",
       "    </tr>\n",
       "    <tr>\n",
       "      <th>5</th>\n",
       "      <td>9495</td>\n",
       "      <td>3</td>\n",
       "      <td>133000.0</td>\n",
       "      <td>=</td>\n",
       "      <td>nM</td>\n",
       "      <td>IC50</td>\n",
       "    </tr>\n",
       "    <tr>\n",
       "      <th>6</th>\n",
       "      <td>88232</td>\n",
       "      <td>3</td>\n",
       "      <td>133000.0</td>\n",
       "      <td>=</td>\n",
       "      <td>nM</td>\n",
       "      <td>IC50</td>\n",
       "    </tr>\n",
       "    <tr>\n",
       "      <th>7</th>\n",
       "      <td>173</td>\n",
       "      <td>3</td>\n",
       "      <td>66000.0</td>\n",
       "      <td>=</td>\n",
       "      <td>nM</td>\n",
       "      <td>IC50</td>\n",
       "    </tr>\n",
       "    <tr>\n",
       "      <th>8</th>\n",
       "      <td>21523</td>\n",
       "      <td>3</td>\n",
       "      <td>133000.0</td>\n",
       "      <td>=</td>\n",
       "      <td>nM</td>\n",
       "      <td>IC50</td>\n",
       "    </tr>\n",
       "    <tr>\n",
       "      <th>9</th>\n",
       "      <td>365189</td>\n",
       "      <td>3</td>\n",
       "      <td>69000.0</td>\n",
       "      <td>=</td>\n",
       "      <td>nM</td>\n",
       "      <td>IC50</td>\n",
       "    </tr>\n",
       "  </tbody>\n",
       "</table>\n",
       "</div>"
      ],
      "text/plain": [
       "   input_compound_id  regression_task_id  standard_value standard_relation  \\\n",
       "0            1075529                   0         25000.0                 >   \n",
       "1            1203610                   1         67000.0                 =   \n",
       "2            1203845                   1        100000.0                 >   \n",
       "3            1203966                   1         62000.0                 =   \n",
       "4            2176418                   2         60000.0                 =   \n",
       "5               9495                   3        133000.0                 =   \n",
       "6              88232                   3        133000.0                 =   \n",
       "7                173                   3         66000.0                 =   \n",
       "8              21523                   3        133000.0                 =   \n",
       "9             365189                   3         69000.0                 =   \n",
       "\n",
       "  standard_units standard_type  \n",
       "0             nM          EC50  \n",
       "1             nM          IC50  \n",
       "2             nM          IC50  \n",
       "3             nM          IC50  \n",
       "4             nM          EC50  \n",
       "5             nM          IC50  \n",
       "6             nM          IC50  \n",
       "7             nM          IC50  \n",
       "8             nM          IC50  \n",
       "9             nM          IC50  "
      ]
     },
     "execution_count": 11,
     "metadata": {},
     "output_type": "execute_result"
    }
   ],
   "source": [
    "t4_df.head(10)"
   ]
  },
  {
   "cell_type": "markdown",
   "metadata": {},
   "source": [
    "---\n",
    "## Export"
   ]
  },
  {
   "cell_type": "code",
   "execution_count": 13,
   "metadata": {},
   "outputs": [],
   "source": [
    "t2_df.to_csv(output_directory + '/T2.csv', index=False)\n",
    "t3_df.to_csv(output_directory + '/T3.csv', index=False)\n",
    "t4_df.to_csv(output_directory + '/T4.csv', index=False)"
   ]
  }
 ],
 "metadata": {
  "kernelspec": {
   "display_name": "Python 3",
   "language": "python",
   "name": "python3"
  },
  "language_info": {
   "codemirror_mode": {
    "name": "ipython",
    "version": 3
   },
   "file_extension": ".py",
   "mimetype": "text/x-python",
   "name": "python",
   "nbconvert_exporter": "python",
   "pygments_lexer": "ipython3",
   "version": "3.6.8"
  }
 },
 "nbformat": 4,
 "nbformat_minor": 2
}
